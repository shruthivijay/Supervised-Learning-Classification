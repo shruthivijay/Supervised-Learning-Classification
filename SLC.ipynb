{
 "cells": [
  {
   "cell_type": "markdown",
   "metadata": {},
   "source": [
    "### DATA DESCRIPTION: \n",
    "\n",
    "This data set contains details of a bank's customers and the target variable is a binary variable reflecting the fact whether the customer left the bank (closed his account) or he continues to be a customer. \n",
    "\n",
    " RowNumber: Row Numbers from 1 to 10000 \n",
    "\n",
    " CustomerId: Unique Ids for bank customer identification \n",
    "\n",
    " Surname: Customer's last name \n",
    "\n",
    " CreditScore: Credit score of the customer \n",
    "\n",
    " Geography: The country from which the customer belongs \n",
    "\n",
    " Gender: Male or Female \n",
    "\n",
    " Age: Age of the customer \n",
    "\n",
    " Tenure: Number of years for which the customer has been with the bank \n",
    "\n",
    " Balance: Bank balance of the customer \n",
    "\n",
    " NumOfProducts: Number of bank products the customer is utilising \n",
    "\n",
    " HasCrCard: Binary Flag for whether the customer holds a credit card with the bank or not \n",
    "\n",
    " IsActiveMember: Binary Flag for whether the customer is an active member with the bank or not \n",
    "\n",
    " EstimatedSalary: Estimated salary of the customer in Dollars \n",
    "\n",
    " Exited: Binary flag 1 if the customer closed account with bank and 0 if the customer is retained \n",
    "\n",
    " > Target Column Description: Exited is a class label used to divide into groups (customer closed account or not). \n",
    " "
   ]
  },
  {
   "cell_type": "markdown",
   "metadata": {},
   "source": [
    "### 1.\tRead the dataset (tab, csv, xls, txt, inbuilt dataset)"
   ]
  },
  {
   "cell_type": "code",
   "execution_count": 1,
   "metadata": {
    "colab": {},
    "colab_type": "code",
    "id": "0xRueviLlY72"
   },
   "outputs": [],
   "source": [
    "# Kindly change the below cells from markdown to code and execute it "
   ]
  },
  {
   "cell_type": "code",
   "execution_count": 2,
   "metadata": {
    "colab_type": "text",
    "id": "O_tINAIolY77"
   },
   "outputs": [
    {
     "data": {
      "text/html": [
       "<div>\n",
       "<style scoped>\n",
       "    .dataframe tbody tr th:only-of-type {\n",
       "        vertical-align: middle;\n",
       "    }\n",
       "\n",
       "    .dataframe tbody tr th {\n",
       "        vertical-align: top;\n",
       "    }\n",
       "\n",
       "    .dataframe thead th {\n",
       "        text-align: right;\n",
       "    }\n",
       "</style>\n",
       "<table border=\"1\" class=\"dataframe\">\n",
       "  <thead>\n",
       "    <tr style=\"text-align: right;\">\n",
       "      <th></th>\n",
       "      <th>RowNumber</th>\n",
       "      <th>CustomerId</th>\n",
       "      <th>Surname</th>\n",
       "      <th>CreditScore</th>\n",
       "      <th>Geography</th>\n",
       "      <th>Gender</th>\n",
       "      <th>Age</th>\n",
       "      <th>Tenure</th>\n",
       "      <th>Balance</th>\n",
       "      <th>NumOfProducts</th>\n",
       "      <th>HasCrCard</th>\n",
       "      <th>IsActiveMember</th>\n",
       "      <th>EstimatedSalary</th>\n",
       "      <th>Exited</th>\n",
       "    </tr>\n",
       "  </thead>\n",
       "  <tbody>\n",
       "    <tr>\n",
       "      <th>0</th>\n",
       "      <td>1</td>\n",
       "      <td>15634602</td>\n",
       "      <td>Hargrave</td>\n",
       "      <td>619</td>\n",
       "      <td>France</td>\n",
       "      <td>Female</td>\n",
       "      <td>42</td>\n",
       "      <td>2</td>\n",
       "      <td>0.00</td>\n",
       "      <td>1</td>\n",
       "      <td>1</td>\n",
       "      <td>1</td>\n",
       "      <td>101348.88</td>\n",
       "      <td>1</td>\n",
       "    </tr>\n",
       "    <tr>\n",
       "      <th>1</th>\n",
       "      <td>2</td>\n",
       "      <td>15647311</td>\n",
       "      <td>Hill</td>\n",
       "      <td>608</td>\n",
       "      <td>Spain</td>\n",
       "      <td>Female</td>\n",
       "      <td>41</td>\n",
       "      <td>1</td>\n",
       "      <td>83807.86</td>\n",
       "      <td>1</td>\n",
       "      <td>0</td>\n",
       "      <td>1</td>\n",
       "      <td>112542.58</td>\n",
       "      <td>0</td>\n",
       "    </tr>\n",
       "    <tr>\n",
       "      <th>2</th>\n",
       "      <td>3</td>\n",
       "      <td>15619304</td>\n",
       "      <td>Onio</td>\n",
       "      <td>502</td>\n",
       "      <td>France</td>\n",
       "      <td>Female</td>\n",
       "      <td>42</td>\n",
       "      <td>8</td>\n",
       "      <td>159660.80</td>\n",
       "      <td>3</td>\n",
       "      <td>1</td>\n",
       "      <td>0</td>\n",
       "      <td>113931.57</td>\n",
       "      <td>1</td>\n",
       "    </tr>\n",
       "    <tr>\n",
       "      <th>3</th>\n",
       "      <td>4</td>\n",
       "      <td>15701354</td>\n",
       "      <td>Boni</td>\n",
       "      <td>699</td>\n",
       "      <td>France</td>\n",
       "      <td>Female</td>\n",
       "      <td>39</td>\n",
       "      <td>1</td>\n",
       "      <td>0.00</td>\n",
       "      <td>2</td>\n",
       "      <td>0</td>\n",
       "      <td>0</td>\n",
       "      <td>93826.63</td>\n",
       "      <td>0</td>\n",
       "    </tr>\n",
       "    <tr>\n",
       "      <th>4</th>\n",
       "      <td>5</td>\n",
       "      <td>15737888</td>\n",
       "      <td>Mitchell</td>\n",
       "      <td>850</td>\n",
       "      <td>Spain</td>\n",
       "      <td>Female</td>\n",
       "      <td>43</td>\n",
       "      <td>2</td>\n",
       "      <td>125510.82</td>\n",
       "      <td>1</td>\n",
       "      <td>1</td>\n",
       "      <td>1</td>\n",
       "      <td>79084.10</td>\n",
       "      <td>0</td>\n",
       "    </tr>\n",
       "  </tbody>\n",
       "</table>\n",
       "</div>"
      ],
      "text/plain": [
       "   RowNumber  CustomerId   Surname  CreditScore Geography  Gender  Age  \\\n",
       "0          1    15634602  Hargrave          619    France  Female   42   \n",
       "1          2    15647311      Hill          608     Spain  Female   41   \n",
       "2          3    15619304      Onio          502    France  Female   42   \n",
       "3          4    15701354      Boni          699    France  Female   39   \n",
       "4          5    15737888  Mitchell          850     Spain  Female   43   \n",
       "\n",
       "   Tenure    Balance  NumOfProducts  HasCrCard  IsActiveMember  \\\n",
       "0       2       0.00              1          1               1   \n",
       "1       1   83807.86              1          0               1   \n",
       "2       8  159660.80              3          1               0   \n",
       "3       1       0.00              2          0               0   \n",
       "4       2  125510.82              1          1               1   \n",
       "\n",
       "   EstimatedSalary  Exited  \n",
       "0        101348.88       1  \n",
       "1        112542.58       0  \n",
       "2        113931.57       1  \n",
       "3         93826.63       0  \n",
       "4         79084.10       0  "
      ]
     },
     "execution_count": 2,
     "metadata": {},
     "output_type": "execute_result"
    }
   ],
   "source": [
    "import pandas as pd\n",
    "    \n",
    "df=pd.read_csv(\"data_set.csv\")\n",
    "\n",
    "df.head()\n"
   ]
  },
  {
   "cell_type": "code",
   "execution_count": 3,
   "metadata": {},
   "outputs": [],
   "source": [
    "import numpy as np\n",
    "import pandas as pd\n",
    "import matplotlib.pyplot as plt\n",
    "import seaborn as sns\n"
   ]
  },
  {
   "cell_type": "code",
   "execution_count": 4,
   "metadata": {},
   "outputs": [],
   "source": [
    "from warnings import filterwarnings\n",
    "filterwarnings('ignore')"
   ]
  },
  {
   "cell_type": "markdown",
   "metadata": {},
   "source": [
    "### 2.\tSummarize important observations from the data set \n",
    "\n",
    "Some pointers which would help you, but don’t be limited by these\n",
    "\n",
    "a.\tFind out number of rows; no. & types of variables (continuous, categorical etc.)\n",
    "\n",
    "b.\tCalculate five-point summary for numerical variables\n",
    "\n",
    "c.\tSummarize observations for categorical variables – no. of categories, % observations in each category\n"
   ]
  },
  {
   "cell_type": "markdown",
   "metadata": {},
   "source": [
    "A"
   ]
  },
  {
   "cell_type": "code",
   "execution_count": 5,
   "metadata": {},
   "outputs": [
    {
     "data": {
      "text/html": [
       "<div>\n",
       "<style scoped>\n",
       "    .dataframe tbody tr th:only-of-type {\n",
       "        vertical-align: middle;\n",
       "    }\n",
       "\n",
       "    .dataframe tbody tr th {\n",
       "        vertical-align: top;\n",
       "    }\n",
       "\n",
       "    .dataframe thead th {\n",
       "        text-align: right;\n",
       "    }\n",
       "</style>\n",
       "<table border=\"1\" class=\"dataframe\">\n",
       "  <thead>\n",
       "    <tr style=\"text-align: right;\">\n",
       "      <th></th>\n",
       "      <th>RowNumber</th>\n",
       "      <th>CustomerId</th>\n",
       "      <th>Surname</th>\n",
       "      <th>CreditScore</th>\n",
       "      <th>Geography</th>\n",
       "      <th>Gender</th>\n",
       "      <th>Age</th>\n",
       "      <th>Tenure</th>\n",
       "      <th>Balance</th>\n",
       "      <th>NumOfProducts</th>\n",
       "      <th>HasCrCard</th>\n",
       "      <th>IsActiveMember</th>\n",
       "      <th>EstimatedSalary</th>\n",
       "      <th>Exited</th>\n",
       "    </tr>\n",
       "  </thead>\n",
       "  <tbody>\n",
       "    <tr>\n",
       "      <th>0</th>\n",
       "      <td>1</td>\n",
       "      <td>15634602</td>\n",
       "      <td>Hargrave</td>\n",
       "      <td>619</td>\n",
       "      <td>France</td>\n",
       "      <td>Female</td>\n",
       "      <td>42</td>\n",
       "      <td>2</td>\n",
       "      <td>0.00</td>\n",
       "      <td>1</td>\n",
       "      <td>1</td>\n",
       "      <td>1</td>\n",
       "      <td>101348.88</td>\n",
       "      <td>1</td>\n",
       "    </tr>\n",
       "    <tr>\n",
       "      <th>1</th>\n",
       "      <td>2</td>\n",
       "      <td>15647311</td>\n",
       "      <td>Hill</td>\n",
       "      <td>608</td>\n",
       "      <td>Spain</td>\n",
       "      <td>Female</td>\n",
       "      <td>41</td>\n",
       "      <td>1</td>\n",
       "      <td>83807.86</td>\n",
       "      <td>1</td>\n",
       "      <td>0</td>\n",
       "      <td>1</td>\n",
       "      <td>112542.58</td>\n",
       "      <td>0</td>\n",
       "    </tr>\n",
       "    <tr>\n",
       "      <th>2</th>\n",
       "      <td>3</td>\n",
       "      <td>15619304</td>\n",
       "      <td>Onio</td>\n",
       "      <td>502</td>\n",
       "      <td>France</td>\n",
       "      <td>Female</td>\n",
       "      <td>42</td>\n",
       "      <td>8</td>\n",
       "      <td>159660.80</td>\n",
       "      <td>3</td>\n",
       "      <td>1</td>\n",
       "      <td>0</td>\n",
       "      <td>113931.57</td>\n",
       "      <td>1</td>\n",
       "    </tr>\n",
       "    <tr>\n",
       "      <th>3</th>\n",
       "      <td>4</td>\n",
       "      <td>15701354</td>\n",
       "      <td>Boni</td>\n",
       "      <td>699</td>\n",
       "      <td>France</td>\n",
       "      <td>Female</td>\n",
       "      <td>39</td>\n",
       "      <td>1</td>\n",
       "      <td>0.00</td>\n",
       "      <td>2</td>\n",
       "      <td>0</td>\n",
       "      <td>0</td>\n",
       "      <td>93826.63</td>\n",
       "      <td>0</td>\n",
       "    </tr>\n",
       "    <tr>\n",
       "      <th>4</th>\n",
       "      <td>5</td>\n",
       "      <td>15737888</td>\n",
       "      <td>Mitchell</td>\n",
       "      <td>850</td>\n",
       "      <td>Spain</td>\n",
       "      <td>Female</td>\n",
       "      <td>43</td>\n",
       "      <td>2</td>\n",
       "      <td>125510.82</td>\n",
       "      <td>1</td>\n",
       "      <td>1</td>\n",
       "      <td>1</td>\n",
       "      <td>79084.10</td>\n",
       "      <td>0</td>\n",
       "    </tr>\n",
       "  </tbody>\n",
       "</table>\n",
       "</div>"
      ],
      "text/plain": [
       "   RowNumber  CustomerId   Surname  CreditScore Geography  Gender  Age  \\\n",
       "0          1    15634602  Hargrave          619    France  Female   42   \n",
       "1          2    15647311      Hill          608     Spain  Female   41   \n",
       "2          3    15619304      Onio          502    France  Female   42   \n",
       "3          4    15701354      Boni          699    France  Female   39   \n",
       "4          5    15737888  Mitchell          850     Spain  Female   43   \n",
       "\n",
       "   Tenure    Balance  NumOfProducts  HasCrCard  IsActiveMember  \\\n",
       "0       2       0.00              1          1               1   \n",
       "1       1   83807.86              1          0               1   \n",
       "2       8  159660.80              3          1               0   \n",
       "3       1       0.00              2          0               0   \n",
       "4       2  125510.82              1          1               1   \n",
       "\n",
       "   EstimatedSalary  Exited  \n",
       "0        101348.88       1  \n",
       "1        112542.58       0  \n",
       "2        113931.57       1  \n",
       "3         93826.63       0  \n",
       "4         79084.10       0  "
      ]
     },
     "execution_count": 5,
     "metadata": {},
     "output_type": "execute_result"
    }
   ],
   "source": [
    "df.head()"
   ]
  },
  {
   "cell_type": "code",
   "execution_count": 6,
   "metadata": {},
   "outputs": [],
   "source": [
    "df.drop(columns=['RowNumber','CustomerId','Surname'],axis=1,inplace=True)"
   ]
  },
  {
   "cell_type": "raw",
   "metadata": {},
   "source": [
    "dropped 3 columns as they are redundant and will not be helpful in prediction"
   ]
  },
  {
   "cell_type": "code",
   "execution_count": 7,
   "metadata": {},
   "outputs": [
    {
     "name": "stdout",
     "output_type": "stream",
     "text": [
      "There are  10000 rows and  11  columns in the dataset after dropping 3 columns .\n"
     ]
    }
   ],
   "source": [
    "print ('There are ',df.shape[0],'rows and ',df.shape[1],' columns in the dataset after dropping 3 columns .')"
   ]
  },
  {
   "cell_type": "code",
   "execution_count": 8,
   "metadata": {},
   "outputs": [
    {
     "data": {
      "text/plain": [
       "CreditScore          int64\n",
       "Geography           object\n",
       "Gender              object\n",
       "Age                  int64\n",
       "Tenure               int64\n",
       "Balance            float64\n",
       "NumOfProducts        int64\n",
       "HasCrCard            int64\n",
       "IsActiveMember       int64\n",
       "EstimatedSalary    float64\n",
       "Exited               int64\n",
       "dtype: object"
      ]
     },
     "execution_count": 8,
     "metadata": {},
     "output_type": "execute_result"
    }
   ],
   "source": [
    "df.dtypes"
   ]
  },
  {
   "cell_type": "code",
   "execution_count": 9,
   "metadata": {},
   "outputs": [],
   "source": [
    "df_num=df.select_dtypes(include=np.number).drop(['Tenure','NumOfProducts','HasCrCard','IsActiveMember','Exited'],1)"
   ]
  },
  {
   "cell_type": "code",
   "execution_count": 10,
   "metadata": {},
   "outputs": [],
   "source": [
    "df_cat=df.drop(columns=df_num.columns,axis=1)"
   ]
  },
  {
   "cell_type": "code",
   "execution_count": 11,
   "metadata": {},
   "outputs": [
    {
     "name": "stdout",
     "output_type": "stream",
     "text": [
      "The categorical columns are : \n",
      " ['Geography', 'Gender', 'Tenure', 'NumOfProducts', 'HasCrCard', 'IsActiveMember', 'Exited']\n"
     ]
    }
   ],
   "source": [
    "print('The categorical columns are : \\n',list(df_cat.columns))"
   ]
  },
  {
   "cell_type": "code",
   "execution_count": 12,
   "metadata": {},
   "outputs": [
    {
     "name": "stdout",
     "output_type": "stream",
     "text": [
      "The numerical columns are : \n",
      " ['CreditScore', 'Age', 'Balance', 'EstimatedSalary']\n"
     ]
    }
   ],
   "source": [
    "print('The numerical columns are : \\n',list(df_num.columns))"
   ]
  },
  {
   "cell_type": "markdown",
   "metadata": {},
   "source": [
    "B"
   ]
  },
  {
   "cell_type": "code",
   "execution_count": 13,
   "metadata": {},
   "outputs": [
    {
     "data": {
      "text/html": [
       "<div>\n",
       "<style scoped>\n",
       "    .dataframe tbody tr th:only-of-type {\n",
       "        vertical-align: middle;\n",
       "    }\n",
       "\n",
       "    .dataframe tbody tr th {\n",
       "        vertical-align: top;\n",
       "    }\n",
       "\n",
       "    .dataframe thead th {\n",
       "        text-align: right;\n",
       "    }\n",
       "</style>\n",
       "<table border=\"1\" class=\"dataframe\">\n",
       "  <thead>\n",
       "    <tr style=\"text-align: right;\">\n",
       "      <th></th>\n",
       "      <th>CreditScore</th>\n",
       "      <th>Age</th>\n",
       "      <th>Tenure</th>\n",
       "      <th>Balance</th>\n",
       "      <th>NumOfProducts</th>\n",
       "      <th>HasCrCard</th>\n",
       "      <th>IsActiveMember</th>\n",
       "      <th>EstimatedSalary</th>\n",
       "      <th>Exited</th>\n",
       "    </tr>\n",
       "  </thead>\n",
       "  <tbody>\n",
       "    <tr>\n",
       "      <th>count</th>\n",
       "      <td>10000.000000</td>\n",
       "      <td>10000.000000</td>\n",
       "      <td>10000.000000</td>\n",
       "      <td>10000.000000</td>\n",
       "      <td>10000.000000</td>\n",
       "      <td>10000.00000</td>\n",
       "      <td>10000.000000</td>\n",
       "      <td>10000.000000</td>\n",
       "      <td>10000.000000</td>\n",
       "    </tr>\n",
       "    <tr>\n",
       "      <th>mean</th>\n",
       "      <td>650.528800</td>\n",
       "      <td>38.921800</td>\n",
       "      <td>5.012800</td>\n",
       "      <td>76485.889288</td>\n",
       "      <td>1.530200</td>\n",
       "      <td>0.70550</td>\n",
       "      <td>0.515100</td>\n",
       "      <td>100090.239881</td>\n",
       "      <td>0.203700</td>\n",
       "    </tr>\n",
       "    <tr>\n",
       "      <th>std</th>\n",
       "      <td>96.653299</td>\n",
       "      <td>10.487806</td>\n",
       "      <td>2.892174</td>\n",
       "      <td>62397.405202</td>\n",
       "      <td>0.581654</td>\n",
       "      <td>0.45584</td>\n",
       "      <td>0.499797</td>\n",
       "      <td>57510.492818</td>\n",
       "      <td>0.402769</td>\n",
       "    </tr>\n",
       "    <tr>\n",
       "      <th>min</th>\n",
       "      <td>350.000000</td>\n",
       "      <td>18.000000</td>\n",
       "      <td>0.000000</td>\n",
       "      <td>0.000000</td>\n",
       "      <td>1.000000</td>\n",
       "      <td>0.00000</td>\n",
       "      <td>0.000000</td>\n",
       "      <td>11.580000</td>\n",
       "      <td>0.000000</td>\n",
       "    </tr>\n",
       "    <tr>\n",
       "      <th>25%</th>\n",
       "      <td>584.000000</td>\n",
       "      <td>32.000000</td>\n",
       "      <td>3.000000</td>\n",
       "      <td>0.000000</td>\n",
       "      <td>1.000000</td>\n",
       "      <td>0.00000</td>\n",
       "      <td>0.000000</td>\n",
       "      <td>51002.110000</td>\n",
       "      <td>0.000000</td>\n",
       "    </tr>\n",
       "    <tr>\n",
       "      <th>50%</th>\n",
       "      <td>652.000000</td>\n",
       "      <td>37.000000</td>\n",
       "      <td>5.000000</td>\n",
       "      <td>97198.540000</td>\n",
       "      <td>1.000000</td>\n",
       "      <td>1.00000</td>\n",
       "      <td>1.000000</td>\n",
       "      <td>100193.915000</td>\n",
       "      <td>0.000000</td>\n",
       "    </tr>\n",
       "    <tr>\n",
       "      <th>75%</th>\n",
       "      <td>718.000000</td>\n",
       "      <td>44.000000</td>\n",
       "      <td>7.000000</td>\n",
       "      <td>127644.240000</td>\n",
       "      <td>2.000000</td>\n",
       "      <td>1.00000</td>\n",
       "      <td>1.000000</td>\n",
       "      <td>149388.247500</td>\n",
       "      <td>0.000000</td>\n",
       "    </tr>\n",
       "    <tr>\n",
       "      <th>max</th>\n",
       "      <td>850.000000</td>\n",
       "      <td>92.000000</td>\n",
       "      <td>10.000000</td>\n",
       "      <td>250898.090000</td>\n",
       "      <td>4.000000</td>\n",
       "      <td>1.00000</td>\n",
       "      <td>1.000000</td>\n",
       "      <td>199992.480000</td>\n",
       "      <td>1.000000</td>\n",
       "    </tr>\n",
       "  </tbody>\n",
       "</table>\n",
       "</div>"
      ],
      "text/plain": [
       "        CreditScore           Age        Tenure        Balance  NumOfProducts  \\\n",
       "count  10000.000000  10000.000000  10000.000000   10000.000000   10000.000000   \n",
       "mean     650.528800     38.921800      5.012800   76485.889288       1.530200   \n",
       "std       96.653299     10.487806      2.892174   62397.405202       0.581654   \n",
       "min      350.000000     18.000000      0.000000       0.000000       1.000000   \n",
       "25%      584.000000     32.000000      3.000000       0.000000       1.000000   \n",
       "50%      652.000000     37.000000      5.000000   97198.540000       1.000000   \n",
       "75%      718.000000     44.000000      7.000000  127644.240000       2.000000   \n",
       "max      850.000000     92.000000     10.000000  250898.090000       4.000000   \n",
       "\n",
       "         HasCrCard  IsActiveMember  EstimatedSalary        Exited  \n",
       "count  10000.00000    10000.000000     10000.000000  10000.000000  \n",
       "mean       0.70550        0.515100    100090.239881      0.203700  \n",
       "std        0.45584        0.499797     57510.492818      0.402769  \n",
       "min        0.00000        0.000000        11.580000      0.000000  \n",
       "25%        0.00000        0.000000     51002.110000      0.000000  \n",
       "50%        1.00000        1.000000    100193.915000      0.000000  \n",
       "75%        1.00000        1.000000    149388.247500      0.000000  \n",
       "max        1.00000        1.000000    199992.480000      1.000000  "
      ]
     },
     "execution_count": 13,
     "metadata": {},
     "output_type": "execute_result"
    }
   ],
   "source": [
    "df.describe()"
   ]
  },
  {
   "cell_type": "raw",
   "metadata": {},
   "source": [
    "the mean and median are almost same in creditscore , age , tenure , estimated salary \n",
    "hence these datas data is symmetrically distributed \n",
    "we can see that the tenure , hascrcard ,  and isactive number has minimun as 0's because they are in binary flag\n"
   ]
  },
  {
   "cell_type": "markdown",
   "metadata": {},
   "source": [
    "C"
   ]
  },
  {
   "cell_type": "code",
   "execution_count": 14,
   "metadata": {},
   "outputs": [
    {
     "data": {
      "image/png": "[encoded data removed]",
      "text/plain": [
       "<Figure size 432x288 with 1 Axes>"
      ]
     },
     "metadata": {},
     "output_type": "display_data"
    },
    {
     "data": {
      "image/png": "[encoded data removed]",
      "text/plain": [
       "<Figure size 432x288 with 1 Axes>"
      ]
     },
     "metadata": {},
     "output_type": "display_data"
    },
    {
     "data": {
      "image/png": "[encoded data removed]",
      "text/plain": [
       "<Figure size 432x288 with 1 Axes>"
      ]
     },
     "metadata": {},
     "output_type": "display_data"
    },
    {
     "data": {
      "image/png": "[encoded data removed]",
      "text/plain": [
       "<Figure size 432x288 with 1 Axes>"
      ]
     },
     "metadata": {},
     "output_type": "display_data"
    },
    {
     "data": {
      "image/png": "[encoded data removed]",
      "text/plain": [
       "<Figure size 432x288 with 1 Axes>"
      ]
     },
     "metadata": {},
     "output_type": "display_data"
    },
    {
     "data": {
      "image/png": "[encoded data removed]",
      "text/plain": [
       "<Figure size 432x288 with 1 Axes>"
      ]
     },
     "metadata": {},
     "output_type": "display_data"
    },
    {
     "data": {
      "image/png": "[encoded data removed]",
      "text/plain": [
       "<Figure size 432x288 with 1 Axes>"
      ]
     },
     "metadata": {},
     "output_type": "display_data"
    }
   ],
   "source": [
    "for i in df_cat.columns:\n",
    "    vc=df_cat[i].value_counts()\n",
    "    plt.pie(vc,labels=vc.index,autopct='%.f%%')\n",
    "    plt.title(i)\n",
    "    plt.show()"
   ]
  },
  {
   "cell_type": "markdown",
   "metadata": {},
   "source": [
    "as we can see from the above 50% of people are from geography location France \n",
    "and we can can also say that there are comparitivly more male than female\n",
    "\n",
    "if we see the tenure chart the number of years are almost equally spread\n",
    "\n",
    "and almost 51% of people have only one product from the bank\n",
    "\n",
    "and 71% of thr people has credit card from the bank\n",
    "\n",
    "the pie char of isactive member is almost equal, hence there are half active members and half non active members\n",
    "\n",
    "and finally around 20% of the people exited and almost 80% stayed ."
   ]
  },
  {
   "cell_type": "code",
   "execution_count": null,
   "metadata": {},
   "outputs": [],
   "source": []
  },
  {
   "cell_type": "code",
   "execution_count": null,
   "metadata": {},
   "outputs": [],
   "source": []
  },
  {
   "cell_type": "markdown",
   "metadata": {},
   "source": [
    "### 3.\tCheck for defects in the data. Perform necessary actions to ‘fix’ these defects \n",
    "\n",
    "Some pointers which would help you, but don’t be limited by these\n",
    "\n",
    "a.\tDo variables have missing/null values?\n",
    "\n",
    "b.\tDo variables have outliers?\n",
    "\n",
    "c.\tIs the Target distributed evenly? Is it a defect? If Yes, what steps are being taken to rectify the problem. \n"
   ]
  },
  {
   "cell_type": "markdown",
   "metadata": {},
   "source": [
    "A"
   ]
  },
  {
   "cell_type": "code",
   "execution_count": 15,
   "metadata": {},
   "outputs": [
    {
     "data": {
      "text/plain": [
       "CreditScore        0\n",
       "Geography          0\n",
       "Gender             0\n",
       "Age                0\n",
       "Tenure             0\n",
       "Balance            0\n",
       "NumOfProducts      0\n",
       "HasCrCard          0\n",
       "IsActiveMember     0\n",
       "EstimatedSalary    0\n",
       "Exited             0\n",
       "dtype: int64"
      ]
     },
     "execution_count": 15,
     "metadata": {},
     "output_type": "execute_result"
    }
   ],
   "source": [
    "df.isnull().sum()"
   ]
  },
  {
   "cell_type": "raw",
   "metadata": {},
   "source": [
    "there are no null values "
   ]
  },
  {
   "cell_type": "markdown",
   "metadata": {},
   "source": [
    "B"
   ]
  },
  {
   "cell_type": "code",
   "execution_count": 16,
   "metadata": {},
   "outputs": [
    {
     "data": {
      "image/png": "[encoded data removed]",
      "text/plain": [
       "<Figure size 432x288 with 1 Axes>"
      ]
     },
     "metadata": {
      "needs_background": "light"
     },
     "output_type": "display_data"
    },
    {
     "data": {
      "image/png": "[encoded data removed]",
      "text/plain": [
       "<Figure size 432x288 with 1 Axes>"
      ]
     },
     "metadata": {
      "needs_background": "light"
     },
     "output_type": "display_data"
    },
    {
     "data": {
      "image/png": "[encoded data removed]",
      "text/plain": [
       "<Figure size 432x288 with 1 Axes>"
      ]
     },
     "metadata": {
      "needs_background": "light"
     },
     "output_type": "display_data"
    },
    {
     "data": {
      "image/png": "[encoded data removed]",
      "text/plain": [
       "<Figure size 432x288 with 1 Axes>"
      ]
     },
     "metadata": {
      "needs_background": "light"
     },
     "output_type": "display_data"
    }
   ],
   "source": [
    "for i in df_num.columns:\n",
    "    sns.boxplot(df_num[i])\n",
    "    plt.show()"
   ]
  },
  {
   "cell_type": "raw",
   "metadata": {},
   "source": [
    "as we can see only age and credit score  has ouliers \n",
    "however they can be true facts because bank can have different age group people \n",
    "but as logistic regression is affected by outlliers capping can be done"
   ]
  },
  {
   "cell_type": "code",
   "execution_count": 17,
   "metadata": {},
   "outputs": [],
   "source": [
    "for i in df_num.columns:\n",
    "    q1=df_num[i].quantile(0.25)\n",
    "    q2=df_num[i].quantile(0.50)\n",
    "    q3=df_num[i].quantile(0.75)\n",
    "    iqr=q3-q1\n",
    "    ub=q3+(1.5*iqr)\n",
    "    lb=q1-(1.5*iqr)\n",
    "    uc=df_num[i].quantile(0.99)\n",
    "    lc=df_num[i].quantile(0.01)\n",
    "    for ind in df_num.index:\n",
    "        if df_num.loc[ind,i]>uc:\n",
    "            df_num.loc[ind,i]=uc\n",
    "        if df_num.loc[ind,i]<lc:\n",
    "            df_num.loc[ind,i]=lc"
   ]
  },
  {
   "cell_type": "code",
   "execution_count": 18,
   "metadata": {},
   "outputs": [
    {
     "data": {
      "image/png": "[encoded data removed]",
      "text/plain": [
       "<Figure size 432x288 with 1 Axes>"
      ]
     },
     "metadata": {
      "needs_background": "light"
     },
     "output_type": "display_data"
    },
    {
     "data": {
      "image/png": "[encoded data removed]",
      "text/plain": [
       "<Figure size 432x288 with 1 Axes>"
      ]
     },
     "metadata": {
      "needs_background": "light"
     },
     "output_type": "display_data"
    },
    {
     "data": {
      "image/png": "[encoded data removed]",
      "text/plain": [
       "<Figure size 432x288 with 1 Axes>"
      ]
     },
     "metadata": {
      "needs_background": "light"
     },
     "output_type": "display_data"
    },
    {
     "data": {
      "image/png": "[encoded data removed]",
      "text/plain": [
       "<Figure size 432x288 with 1 Axes>"
      ]
     },
     "metadata": {
      "needs_background": "light"
     },
     "output_type": "display_data"
    }
   ],
   "source": [
    "for i in df_num.columns:\n",
    "    sns.boxplot(df_num[i])\n",
    "    plt.show()"
   ]
  },
  {
   "cell_type": "raw",
   "metadata": {},
   "source": [
    "there are still a few ouliers in age which is with respect to the new iqr"
   ]
  },
  {
   "cell_type": "markdown",
   "metadata": {},
   "source": [
    "C"
   ]
  },
  {
   "cell_type": "code",
   "execution_count": 19,
   "metadata": {},
   "outputs": [
    {
     "data": {
      "text/plain": [
       "0    7963\n",
       "1    2037\n",
       "Name: Exited, dtype: int64"
      ]
     },
     "execution_count": 19,
     "metadata": {},
     "output_type": "execute_result"
    }
   ],
   "source": [
    "df['Exited'].value_counts()"
   ]
  },
  {
   "cell_type": "code",
   "execution_count": 20,
   "metadata": {},
   "outputs": [
    {
     "data": {
      "image/png": "[encoded data removed]",
      "text/plain": [
       "<Figure size 432x288 with 1 Axes>"
      ]
     },
     "metadata": {
      "needs_background": "light"
     },
     "output_type": "display_data"
    }
   ],
   "source": [
    "df['Exited'].value_counts().plot(kind='bar')\n",
    "plt.show()"
   ]
  },
  {
   "cell_type": "raw",
   "metadata": {},
   "source": [
    "as we can see from the above the classes are not balanced \n",
    "they are not sread equally however in this case classes cannot be spread equally because the number of \n",
    "customers who excited the bank cannot be equal to the count of people who stayed "
   ]
  },
  {
   "cell_type": "raw",
   "metadata": {},
   "source": [
    "the imbalance spread of data is a defect as , our model will predict the 0 class(higher count data) well rather predictiong \n",
    "minority class. the model will tend to learn thenclass 0 well rather than 1 so the recall , precision and f1 score of the \n",
    "minority class will be less compared to class 0.however the accuracy will be more because it is predicting class 0 well."
   ]
  },
  {
   "cell_type": "raw",
   "metadata": {},
   "source": [
    "the imbalance in the data can be rectified by smote and nearmiss\n"
   ]
  },
  {
   "cell_type": "markdown",
   "metadata": {},
   "source": [
    "### 4.\tSummarize relationships among variables              \n",
    "a.\tPlot relevant categorical plots. Find out which are the variables most correlated or appear to be in causation with Target? Do you want to exclude some variables from the model based on this analysis? What other actions will you take?\n",
    "\n",
    "\n",
    "b.\tPlot all independent variables with the target & find out the relationship? Perform the Relevant Tests to find out if the Independent variables are associated with the Target Variable.\n",
    "\n",
    " Hint: based on your observations you may want to transform features or create additional features.\n"
   ]
  },
  {
   "cell_type": "code",
   "execution_count": 21,
   "metadata": {},
   "outputs": [
    {
     "data": {
      "image/png": "[encoded data removed]",
      "text/plain": [
       "<Figure size 432x288 with 1 Axes>"
      ]
     },
     "metadata": {
      "needs_background": "light"
     },
     "output_type": "display_data"
    },
    {
     "data": {
      "image/png": "[encoded data removed]",
      "text/plain": [
       "<Figure size 432x288 with 1 Axes>"
      ]
     },
     "metadata": {
      "needs_background": "light"
     },
     "output_type": "display_data"
    },
    {
     "data": {
      "image/png": "[encoded data removed]",
      "text/plain": [
       "<Figure size 432x288 with 1 Axes>"
      ]
     },
     "metadata": {
      "needs_background": "light"
     },
     "output_type": "display_data"
    },
    {
     "data": {
      "image/png": "[encoded data removed]",
      "text/plain": [
       "<Figure size 432x288 with 1 Axes>"
      ]
     },
     "metadata": {
      "needs_background": "light"
     },
     "output_type": "display_data"
    },
    {
     "data": {
      "image/png": "[encoded data removed]",
      "text/plain": [
       "<Figure size 432x288 with 1 Axes>"
      ]
     },
     "metadata": {
      "needs_background": "light"
     },
     "output_type": "display_data"
    },
    {
     "data": {
      "image/png": "[encoded data removed]",
      "text/plain": [
       "<Figure size 432x288 with 1 Axes>"
      ]
     },
     "metadata": {
      "needs_background": "light"
     },
     "output_type": "display_data"
    },
    {
     "data": {
      "image/png": "[encoded data removed]",
      "text/plain": [
       "<Figure size 432x288 with 1 Axes>"
      ]
     },
     "metadata": {
      "needs_background": "light"
     },
     "output_type": "display_data"
    }
   ],
   "source": [
    "for i in df_cat.columns:\n",
    "    pd.crosstab(df[i],df['Exited']).T.plot(kind='bar')"
   ]
  },
  {
   "cell_type": "markdown",
   "metadata": {},
   "source": [
    "few inferances:\n",
    "\n",
    "from the above graphs we can see that most of people from france stay\n",
    "\n",
    " more female quit compared to male\n",
    " \n",
    " and  tenures are almost equally spread in both the classes\n",
    " \n",
    " people having one products are more than that of 2 \n",
    " and only few have 3 or 4 products\n",
    " \n",
    " if we see the hascrcard people having credit card stay rather than people who does niot have \n",
    " \n",
    " and people who are active members stay "
   ]
  },
  {
   "cell_type": "code",
   "execution_count": 22,
   "metadata": {},
   "outputs": [],
   "source": [
    "cat=pd.get_dummies(df[['Geography','Gender']],drop_first=True) #one hot encoding for geo and gender"
   ]
  },
  {
   "cell_type": "raw",
   "metadata": {},
   "source": [
    "label encoding is done for tenure and number of products as they are ordinal"
   ]
  },
  {
   "cell_type": "code",
   "execution_count": 23,
   "metadata": {},
   "outputs": [],
   "source": [
    "from sklearn.preprocessing import LabelEncoder\n",
    "le=LabelEncoder()\n",
    "df_cat['NumOfProducts']=pd.DataFrame(le.fit_transform(df_cat['NumOfProducts']),columns=['NumOfProducts'])\n",
    "df_cat['Tenure']=pd.DataFrame(le.fit_transform(df_cat['Tenure']),columns=['Tenure'])\n"
   ]
  },
  {
   "cell_type": "code",
   "execution_count": 24,
   "metadata": {},
   "outputs": [],
   "source": [
    "df_cat.drop(['Geography','Gender'],1,inplace=True)"
   ]
  },
  {
   "cell_type": "code",
   "execution_count": 25,
   "metadata": {},
   "outputs": [],
   "source": [
    "categoryy=pd.concat([df_cat,cat],1)"
   ]
  },
  {
   "cell_type": "code",
   "execution_count": 26,
   "metadata": {},
   "outputs": [],
   "source": [
    "final=pd.concat([categoryy,df_num],1)"
   ]
  },
  {
   "cell_type": "code",
   "execution_count": 27,
   "metadata": {},
   "outputs": [
    {
     "data": {
      "text/plain": [
       "(10000, 12)"
      ]
     },
     "execution_count": 27,
     "metadata": {},
     "output_type": "execute_result"
    }
   ],
   "source": [
    "final.shape"
   ]
  },
  {
   "cell_type": "code",
   "execution_count": 28,
   "metadata": {},
   "outputs": [
    {
     "data": {
      "text/plain": [
       "Tenure               0\n",
       "NumOfProducts        0\n",
       "HasCrCard            0\n",
       "IsActiveMember       0\n",
       "Exited               0\n",
       "Geography_Germany    0\n",
       "Geography_Spain      0\n",
       "Gender_Male          0\n",
       "CreditScore          0\n",
       "Age                  0\n",
       "Balance              0\n",
       "EstimatedSalary      0\n",
       "dtype: int64"
      ]
     },
     "execution_count": 28,
     "metadata": {},
     "output_type": "execute_result"
    }
   ],
   "source": [
    "final.isnull().sum()"
   ]
  },
  {
   "cell_type": "code",
   "execution_count": 29,
   "metadata": {},
   "outputs": [
    {
     "data": {
      "image/png": "[encoded data removed]",
      "text/plain": [
       "<Figure size 1080x864 with 2 Axes>"
      ]
     },
     "metadata": {
      "needs_background": "light"
     },
     "output_type": "display_data"
    }
   ],
   "source": [
    "plt.figure(figsize=(15,12))\n",
    "sns.heatmap(final.corr(),annot=True)\n",
    "plt.show()"
   ]
  },
  {
   "cell_type": "markdown",
   "metadata": {},
   "source": [
    "from the above we can see that the age and geo location germany has high correlation compared to other \n",
    "variables .\n",
    "\n",
    "balance and estimated salary also has some effect on exited\n",
    "\n",
    "other variables have negative correlation with the target"
   ]
  },
  {
   "cell_type": "code",
   "execution_count": 30,
   "metadata": {},
   "outputs": [
    {
     "data": {
      "image/png": "[encoded data removed]",
      "text/plain": [
       "<Figure size 432x288 with 1 Axes>"
      ]
     },
     "metadata": {
      "needs_background": "light"
     },
     "output_type": "display_data"
    },
    {
     "data": {
      "image/png": "[encoded data removed]",
      "text/plain": [
       "<Figure size 432x288 with 1 Axes>"
      ]
     },
     "metadata": {
      "needs_background": "light"
     },
     "output_type": "display_data"
    },
    {
     "data": {
      "image/png": "[encoded data removed]",
      "text/plain": [
       "<Figure size 432x288 with 1 Axes>"
      ]
     },
     "metadata": {
      "needs_background": "light"
     },
     "output_type": "display_data"
    },
    {
     "data": {
      "image/png": "[encoded data removed]",
      "text/plain": [
       "<Figure size 432x288 with 1 Axes>"
      ]
     },
     "metadata": {
      "needs_background": "light"
     },
     "output_type": "display_data"
    }
   ],
   "source": [
    "for i in df_num.columns:\n",
    "    sns.boxplot(df_cat['Exited'],df_num[i])\n",
    "    plt.show()"
   ]
  },
  {
   "cell_type": "markdown",
   "metadata": {},
   "source": [
    "creditscring is same for both the classes\n",
    "\n",
    "the balance of people who stay is less comparitivly to the people who exit\n",
    "\n",
    "age of the people who stay is less than that of who quit"
   ]
  },
  {
   "cell_type": "code",
   "execution_count": 31,
   "metadata": {},
   "outputs": [],
   "source": [
    "tab1=pd.crosstab(df['Gender'],df['Exited'])\n",
    "tab2=pd.crosstab(df['IsActiveMember'],df['Exited'])\n",
    "tab3=pd.crosstab(df['Geography'],df['Exited'])\n",
    "tab4=pd.crosstab(df['Tenure'],df['Exited'])\n",
    "tab5=pd.crosstab(df['HasCrCard'],df['Exited'])"
   ]
  },
  {
   "cell_type": "code",
   "execution_count": 32,
   "metadata": {},
   "outputs": [],
   "source": [
    "import scipy.stats as stats"
   ]
  },
  {
   "cell_type": "code",
   "execution_count": 33,
   "metadata": {},
   "outputs": [
    {
     "data": {
      "text/plain": [
       "(112.91857062096116, 2.2482100097131755e-26, 1, array([[3617.5909,  925.4091],\n",
       "        [4345.4091, 1111.5909]]))"
      ]
     },
     "execution_count": 33,
     "metadata": {},
     "output_type": "execute_result"
    }
   ],
   "source": [
    "stats.chi2_contingency(tab1)"
   ]
  },
  {
   "cell_type": "code",
   "execution_count": 34,
   "metadata": {},
   "outputs": [
    {
     "data": {
      "text/plain": [
       "(242.98534164287963, 8.785858269303703e-55, 1, array([[3861.2587,  987.7413],\n",
       "        [4101.7413, 1049.2587]]))"
      ]
     },
     "execution_count": 34,
     "metadata": {},
     "output_type": "execute_result"
    }
   ],
   "source": [
    "stats.chi2_contingency(tab2)"
   ]
  },
  {
   "cell_type": "code",
   "execution_count": 35,
   "metadata": {},
   "outputs": [
    {
     "data": {
      "text/plain": [
       "(301.25533682434536, 3.8303176053541544e-66, 2, array([[3992.6482, 1021.3518],\n",
       "        [1997.9167,  511.0833],\n",
       "        [1972.4351,  504.5649]]))"
      ]
     },
     "execution_count": 35,
     "metadata": {},
     "output_type": "execute_result"
    }
   ],
   "source": [
    "stats.chi2_contingency(tab3)"
   ]
  },
  {
   "cell_type": "code",
   "execution_count": 36,
   "metadata": {},
   "outputs": [
    {
     "data": {
      "text/plain": [
       "(13.900372600390284, 0.17758462026413294, 10, array([[328.8719,  84.1281],\n",
       "        [824.1705, 210.8295],\n",
       "        [834.5224, 213.4776],\n",
       "        [803.4667, 205.5333],\n",
       "        [787.5407, 201.4593],\n",
       "        [805.8556, 206.1444],\n",
       "        [770.0221, 196.9779],\n",
       "        [818.5964, 209.4036],\n",
       "        [816.2075, 208.7925],\n",
       "        [783.5592, 200.4408],\n",
       "        [390.187 ,  99.813 ]]))"
      ]
     },
     "execution_count": 36,
     "metadata": {},
     "output_type": "execute_result"
    }
   ],
   "source": [
    "stats.chi2_contingency(tab4)"
   ]
  },
  {
   "cell_type": "code",
   "execution_count": 37,
   "metadata": {},
   "outputs": [
    {
     "data": {
      "text/plain": [
       "(0.47133779904440803, 0.49237236141554686, 1, array([[2345.1035,  599.8965],\n",
       "        [5617.8965, 1437.1035]]))"
      ]
     },
     "execution_count": 37,
     "metadata": {},
     "output_type": "execute_result"
    }
   ],
   "source": [
    "stats.chi2_contingency(tab5)"
   ]
  },
  {
   "cell_type": "raw",
   "metadata": {},
   "source": [
    "only tenure and has card has pvalue greater than 0.05 \n",
    "hence the variables are dependent."
   ]
  },
  {
   "cell_type": "code",
   "execution_count": 38,
   "metadata": {},
   "outputs": [],
   "source": [
    "stayed=df[df['Exited']==1]['CreditScore']\n",
    "quit=df[df['Exited']==0]['CreditScore']"
   ]
  },
  {
   "cell_type": "code",
   "execution_count": 39,
   "metadata": {},
   "outputs": [
    {
     "data": {
      "text/plain": [
       "(0.993703305721283, 1.2323278042458696e-07)"
      ]
     },
     "execution_count": 39,
     "metadata": {},
     "output_type": "execute_result"
    }
   ],
   "source": [
    "stats.shapiro(stayed)"
   ]
  },
  {
   "cell_type": "raw",
   "metadata": {},
   "source": [
    "data is not normal hence manwhitnyu"
   ]
  },
  {
   "cell_type": "code",
   "execution_count": 40,
   "metadata": {},
   "outputs": [
    {
     "data": {
      "text/plain": [
       "MannwhitneyuResult(statistic=7839548.0, pvalue=0.00993433058636417)"
      ]
     },
     "execution_count": 40,
     "metadata": {},
     "output_type": "execute_result"
    }
   ],
   "source": [
    "stats.mannwhitneyu(stayed,quit)"
   ]
  },
  {
   "cell_type": "code",
   "execution_count": 41,
   "metadata": {},
   "outputs": [],
   "source": [
    "stayed=df[df['Exited']==1]['Age']\n",
    "quit=df[df['Exited']==0]['Age']"
   ]
  },
  {
   "cell_type": "code",
   "execution_count": 42,
   "metadata": {},
   "outputs": [
    {
     "data": {
      "text/plain": [
       "(0.9977729916572571, 0.005956501234322786)"
      ]
     },
     "execution_count": 42,
     "metadata": {},
     "output_type": "execute_result"
    }
   ],
   "source": [
    "stats.shapiro(stayed)"
   ]
  },
  {
   "cell_type": "code",
   "execution_count": 43,
   "metadata": {},
   "outputs": [
    {
     "data": {
      "text/plain": [
       "MannwhitneyuResult(statistic=4345981.5, pvalue=1.6052007159685838e-230)"
      ]
     },
     "execution_count": 43,
     "metadata": {},
     "output_type": "execute_result"
    }
   ],
   "source": [
    "stats.mannwhitneyu(stayed,quit)"
   ]
  },
  {
   "cell_type": "raw",
   "metadata": {},
   "source": [
    "both credit score and age are helpful in prediction"
   ]
  },
  {
   "cell_type": "markdown",
   "metadata": {
    "_uuid": "9f29fa3003e7fc145f7d89c614446b2afafb3ccb"
   },
   "source": [
    "### 5.\tSplit dataset into train and test (70:30) \n",
    "a.\tAre both train and test representative of the overall data? How would you ascertain this statistically?\n"
   ]
  },
  {
   "cell_type": "code",
   "execution_count": 44,
   "metadata": {},
   "outputs": [
    {
     "data": {
      "text/plain": [
       "Tenure                 int64\n",
       "NumOfProducts          int64\n",
       "HasCrCard              int64\n",
       "IsActiveMember         int64\n",
       "Exited                 int64\n",
       "Geography_Germany      uint8\n",
       "Geography_Spain        uint8\n",
       "Gender_Male            uint8\n",
       "CreditScore          float64\n",
       "Age                  float64\n",
       "Balance              float64\n",
       "EstimatedSalary      float64\n",
       "dtype: object"
      ]
     },
     "execution_count": 44,
     "metadata": {},
     "output_type": "execute_result"
    }
   ],
   "source": [
    "final.dtypes"
   ]
  },
  {
   "cell_type": "code",
   "execution_count": 45,
   "metadata": {},
   "outputs": [],
   "source": [
    "from sklearn.model_selection import train_test_split\n",
    "from sklearn.linear_model import LogisticRegression\n",
    "inp=final.drop('Exited',1)\n",
    "out=final['Exited']\n",
    "xtrain,xtest,ytrain,ytest=train_test_split(inp,out,test_size=0.3,random_state=48)"
   ]
  },
  {
   "cell_type": "code",
   "execution_count": 46,
   "metadata": {},
   "outputs": [
    {
     "data": {
      "text/plain": [
       "(7000, 11)"
      ]
     },
     "execution_count": 46,
     "metadata": {},
     "output_type": "execute_result"
    }
   ],
   "source": [
    "xtrain.shape"
   ]
  },
  {
   "cell_type": "code",
   "execution_count": 47,
   "metadata": {},
   "outputs": [
    {
     "data": {
      "text/plain": [
       "(3000, 11)"
      ]
     },
     "execution_count": 47,
     "metadata": {},
     "output_type": "execute_result"
    }
   ],
   "source": [
    "xtest.shape"
   ]
  },
  {
   "cell_type": "code",
   "execution_count": 48,
   "metadata": {},
   "outputs": [
    {
     "data": {
      "text/html": [
       "<div>\n",
       "<style scoped>\n",
       "    .dataframe tbody tr th:only-of-type {\n",
       "        vertical-align: middle;\n",
       "    }\n",
       "\n",
       "    .dataframe tbody tr th {\n",
       "        vertical-align: top;\n",
       "    }\n",
       "\n",
       "    .dataframe thead th {\n",
       "        text-align: right;\n",
       "    }\n",
       "</style>\n",
       "<table border=\"1\" class=\"dataframe\">\n",
       "  <thead>\n",
       "    <tr style=\"text-align: right;\">\n",
       "      <th></th>\n",
       "      <th>Tenure</th>\n",
       "      <th>NumOfProducts</th>\n",
       "      <th>HasCrCard</th>\n",
       "      <th>IsActiveMember</th>\n",
       "      <th>Geography_Germany</th>\n",
       "      <th>Geography_Spain</th>\n",
       "      <th>Gender_Male</th>\n",
       "      <th>CreditScore</th>\n",
       "      <th>Age</th>\n",
       "      <th>Balance</th>\n",
       "      <th>EstimatedSalary</th>\n",
       "    </tr>\n",
       "  </thead>\n",
       "  <tbody>\n",
       "    <tr>\n",
       "      <th>count</th>\n",
       "      <td>7000.000000</td>\n",
       "      <td>7000.000000</td>\n",
       "      <td>7000.000000</td>\n",
       "      <td>7000.000000</td>\n",
       "      <td>7000.000000</td>\n",
       "      <td>7000.000000</td>\n",
       "      <td>7000.000000</td>\n",
       "      <td>7000.000000</td>\n",
       "      <td>7000.000000</td>\n",
       "      <td>7000.000000</td>\n",
       "      <td>7000.000000</td>\n",
       "    </tr>\n",
       "    <tr>\n",
       "      <th>mean</th>\n",
       "      <td>5.028000</td>\n",
       "      <td>0.531571</td>\n",
       "      <td>0.705429</td>\n",
       "      <td>0.516857</td>\n",
       "      <td>0.254429</td>\n",
       "      <td>0.246143</td>\n",
       "      <td>0.549429</td>\n",
       "      <td>650.926143</td>\n",
       "      <td>38.879857</td>\n",
       "      <td>76021.118511</td>\n",
       "      <td>100818.899388</td>\n",
       "    </tr>\n",
       "    <tr>\n",
       "      <th>std</th>\n",
       "      <td>2.881141</td>\n",
       "      <td>0.582036</td>\n",
       "      <td>0.455882</td>\n",
       "      <td>0.499751</td>\n",
       "      <td>0.435571</td>\n",
       "      <td>0.430794</td>\n",
       "      <td>0.497586</td>\n",
       "      <td>96.248986</td>\n",
       "      <td>10.303703</td>\n",
       "      <td>62229.722889</td>\n",
       "      <td>57138.140719</td>\n",
       "    </tr>\n",
       "    <tr>\n",
       "      <th>min</th>\n",
       "      <td>0.000000</td>\n",
       "      <td>0.000000</td>\n",
       "      <td>0.000000</td>\n",
       "      <td>0.000000</td>\n",
       "      <td>0.000000</td>\n",
       "      <td>0.000000</td>\n",
       "      <td>0.000000</td>\n",
       "      <td>432.000000</td>\n",
       "      <td>21.000000</td>\n",
       "      <td>0.000000</td>\n",
       "      <td>1842.825300</td>\n",
       "    </tr>\n",
       "    <tr>\n",
       "      <th>25%</th>\n",
       "      <td>3.000000</td>\n",
       "      <td>0.000000</td>\n",
       "      <td>0.000000</td>\n",
       "      <td>0.000000</td>\n",
       "      <td>0.000000</td>\n",
       "      <td>0.000000</td>\n",
       "      <td>0.000000</td>\n",
       "      <td>584.000000</td>\n",
       "      <td>32.000000</td>\n",
       "      <td>0.000000</td>\n",
       "      <td>52360.755000</td>\n",
       "    </tr>\n",
       "    <tr>\n",
       "      <th>50%</th>\n",
       "      <td>5.000000</td>\n",
       "      <td>0.000000</td>\n",
       "      <td>1.000000</td>\n",
       "      <td>1.000000</td>\n",
       "      <td>0.000000</td>\n",
       "      <td>0.000000</td>\n",
       "      <td>1.000000</td>\n",
       "      <td>652.000000</td>\n",
       "      <td>37.000000</td>\n",
       "      <td>96824.620000</td>\n",
       "      <td>100736.375000</td>\n",
       "    </tr>\n",
       "    <tr>\n",
       "      <th>75%</th>\n",
       "      <td>8.000000</td>\n",
       "      <td>1.000000</td>\n",
       "      <td>1.000000</td>\n",
       "      <td>1.000000</td>\n",
       "      <td>1.000000</td>\n",
       "      <td>0.000000</td>\n",
       "      <td>1.000000</td>\n",
       "      <td>717.000000</td>\n",
       "      <td>44.000000</td>\n",
       "      <td>127486.577500</td>\n",
       "      <td>149613.870000</td>\n",
       "    </tr>\n",
       "    <tr>\n",
       "      <th>max</th>\n",
       "      <td>10.000000</td>\n",
       "      <td>3.000000</td>\n",
       "      <td>1.000000</td>\n",
       "      <td>1.000000</td>\n",
       "      <td>1.000000</td>\n",
       "      <td>1.000000</td>\n",
       "      <td>1.000000</td>\n",
       "      <td>850.000000</td>\n",
       "      <td>72.000000</td>\n",
       "      <td>185967.985400</td>\n",
       "      <td>198069.734500</td>\n",
       "    </tr>\n",
       "  </tbody>\n",
       "</table>\n",
       "</div>"
      ],
      "text/plain": [
       "            Tenure  NumOfProducts    HasCrCard  IsActiveMember  \\\n",
       "count  7000.000000    7000.000000  7000.000000     7000.000000   \n",
       "mean      5.028000       0.531571     0.705429        0.516857   \n",
       "std       2.881141       0.582036     0.455882        0.499751   \n",
       "min       0.000000       0.000000     0.000000        0.000000   \n",
       "25%       3.000000       0.000000     0.000000        0.000000   \n",
       "50%       5.000000       0.000000     1.000000        1.000000   \n",
       "75%       8.000000       1.000000     1.000000        1.000000   \n",
       "max      10.000000       3.000000     1.000000        1.000000   \n",
       "\n",
       "       Geography_Germany  Geography_Spain  Gender_Male  CreditScore  \\\n",
       "count        7000.000000      7000.000000  7000.000000  7000.000000   \n",
       "mean            0.254429         0.246143     0.549429   650.926143   \n",
       "std             0.435571         0.430794     0.497586    96.248986   \n",
       "min             0.000000         0.000000     0.000000   432.000000   \n",
       "25%             0.000000         0.000000     0.000000   584.000000   \n",
       "50%             0.000000         0.000000     1.000000   652.000000   \n",
       "75%             1.000000         0.000000     1.000000   717.000000   \n",
       "max             1.000000         1.000000     1.000000   850.000000   \n",
       "\n",
       "               Age        Balance  EstimatedSalary  \n",
       "count  7000.000000    7000.000000      7000.000000  \n",
       "mean     38.879857   76021.118511    100818.899388  \n",
       "std      10.303703   62229.722889     57138.140719  \n",
       "min      21.000000       0.000000      1842.825300  \n",
       "25%      32.000000       0.000000     52360.755000  \n",
       "50%      37.000000   96824.620000    100736.375000  \n",
       "75%      44.000000  127486.577500    149613.870000  \n",
       "max      72.000000  185967.985400    198069.734500  "
      ]
     },
     "execution_count": 48,
     "metadata": {},
     "output_type": "execute_result"
    }
   ],
   "source": [
    "xtrain.describe()"
   ]
  },
  {
   "cell_type": "code",
   "execution_count": 49,
   "metadata": {},
   "outputs": [
    {
     "data": {
      "text/html": [
       "<div>\n",
       "<style scoped>\n",
       "    .dataframe tbody tr th:only-of-type {\n",
       "        vertical-align: middle;\n",
       "    }\n",
       "\n",
       "    .dataframe tbody tr th {\n",
       "        vertical-align: top;\n",
       "    }\n",
       "\n",
       "    .dataframe thead th {\n",
       "        text-align: right;\n",
       "    }\n",
       "</style>\n",
       "<table border=\"1\" class=\"dataframe\">\n",
       "  <thead>\n",
       "    <tr style=\"text-align: right;\">\n",
       "      <th></th>\n",
       "      <th>Tenure</th>\n",
       "      <th>NumOfProducts</th>\n",
       "      <th>HasCrCard</th>\n",
       "      <th>IsActiveMember</th>\n",
       "      <th>Geography_Germany</th>\n",
       "      <th>Geography_Spain</th>\n",
       "      <th>Gender_Male</th>\n",
       "      <th>CreditScore</th>\n",
       "      <th>Age</th>\n",
       "      <th>Balance</th>\n",
       "      <th>EstimatedSalary</th>\n",
       "    </tr>\n",
       "  </thead>\n",
       "  <tbody>\n",
       "    <tr>\n",
       "      <th>count</th>\n",
       "      <td>3000.000000</td>\n",
       "      <td>3000.000000</td>\n",
       "      <td>3000.000000</td>\n",
       "      <td>3000.000000</td>\n",
       "      <td>3000.000000</td>\n",
       "      <td>3000.000000</td>\n",
       "      <td>3000.000000</td>\n",
       "      <td>3000.000000</td>\n",
       "      <td>3000.000000</td>\n",
       "      <td>3000.000000</td>\n",
       "      <td>3000.000000</td>\n",
       "    </tr>\n",
       "    <tr>\n",
       "      <th>mean</th>\n",
       "      <td>4.977333</td>\n",
       "      <td>0.527000</td>\n",
       "      <td>0.705667</td>\n",
       "      <td>0.511000</td>\n",
       "      <td>0.242667</td>\n",
       "      <td>0.251333</td>\n",
       "      <td>0.537000</td>\n",
       "      <td>650.316333</td>\n",
       "      <td>38.939000</td>\n",
       "      <td>77183.125821</td>\n",
       "      <td>98387.824727</td>\n",
       "    </tr>\n",
       "    <tr>\n",
       "      <th>std</th>\n",
       "      <td>2.917932</td>\n",
       "      <td>0.580847</td>\n",
       "      <td>0.455818</td>\n",
       "      <td>0.499962</td>\n",
       "      <td>0.428767</td>\n",
       "      <td>0.433852</td>\n",
       "      <td>0.498712</td>\n",
       "      <td>95.817503</td>\n",
       "      <td>10.343643</td>\n",
       "      <td>62039.899809</td>\n",
       "      <td>58235.524001</td>\n",
       "    </tr>\n",
       "    <tr>\n",
       "      <th>min</th>\n",
       "      <td>0.000000</td>\n",
       "      <td>0.000000</td>\n",
       "      <td>0.000000</td>\n",
       "      <td>0.000000</td>\n",
       "      <td>0.000000</td>\n",
       "      <td>0.000000</td>\n",
       "      <td>0.000000</td>\n",
       "      <td>432.000000</td>\n",
       "      <td>21.000000</td>\n",
       "      <td>0.000000</td>\n",
       "      <td>1842.825300</td>\n",
       "    </tr>\n",
       "    <tr>\n",
       "      <th>25%</th>\n",
       "      <td>2.000000</td>\n",
       "      <td>0.000000</td>\n",
       "      <td>0.000000</td>\n",
       "      <td>0.000000</td>\n",
       "      <td>0.000000</td>\n",
       "      <td>0.000000</td>\n",
       "      <td>0.000000</td>\n",
       "      <td>584.000000</td>\n",
       "      <td>32.000000</td>\n",
       "      <td>0.000000</td>\n",
       "      <td>48162.197500</td>\n",
       "    </tr>\n",
       "    <tr>\n",
       "      <th>50%</th>\n",
       "      <td>5.000000</td>\n",
       "      <td>0.000000</td>\n",
       "      <td>1.000000</td>\n",
       "      <td>1.000000</td>\n",
       "      <td>0.000000</td>\n",
       "      <td>0.000000</td>\n",
       "      <td>1.000000</td>\n",
       "      <td>651.000000</td>\n",
       "      <td>37.000000</td>\n",
       "      <td>98011.935000</td>\n",
       "      <td>98320.900000</td>\n",
       "    </tr>\n",
       "    <tr>\n",
       "      <th>75%</th>\n",
       "      <td>7.000000</td>\n",
       "      <td>1.000000</td>\n",
       "      <td>1.000000</td>\n",
       "      <td>1.000000</td>\n",
       "      <td>0.000000</td>\n",
       "      <td>1.000000</td>\n",
       "      <td>1.000000</td>\n",
       "      <td>718.000000</td>\n",
       "      <td>44.000000</td>\n",
       "      <td>127901.155000</td>\n",
       "      <td>147172.395000</td>\n",
       "    </tr>\n",
       "    <tr>\n",
       "      <th>max</th>\n",
       "      <td>10.000000</td>\n",
       "      <td>3.000000</td>\n",
       "      <td>1.000000</td>\n",
       "      <td>1.000000</td>\n",
       "      <td>1.000000</td>\n",
       "      <td>1.000000</td>\n",
       "      <td>1.000000</td>\n",
       "      <td>850.000000</td>\n",
       "      <td>72.000000</td>\n",
       "      <td>185967.985400</td>\n",
       "      <td>198069.734500</td>\n",
       "    </tr>\n",
       "  </tbody>\n",
       "</table>\n",
       "</div>"
      ],
      "text/plain": [
       "            Tenure  NumOfProducts    HasCrCard  IsActiveMember  \\\n",
       "count  3000.000000    3000.000000  3000.000000     3000.000000   \n",
       "mean      4.977333       0.527000     0.705667        0.511000   \n",
       "std       2.917932       0.580847     0.455818        0.499962   \n",
       "min       0.000000       0.000000     0.000000        0.000000   \n",
       "25%       2.000000       0.000000     0.000000        0.000000   \n",
       "50%       5.000000       0.000000     1.000000        1.000000   \n",
       "75%       7.000000       1.000000     1.000000        1.000000   \n",
       "max      10.000000       3.000000     1.000000        1.000000   \n",
       "\n",
       "       Geography_Germany  Geography_Spain  Gender_Male  CreditScore  \\\n",
       "count        3000.000000      3000.000000  3000.000000  3000.000000   \n",
       "mean            0.242667         0.251333     0.537000   650.316333   \n",
       "std             0.428767         0.433852     0.498712    95.817503   \n",
       "min             0.000000         0.000000     0.000000   432.000000   \n",
       "25%             0.000000         0.000000     0.000000   584.000000   \n",
       "50%             0.000000         0.000000     1.000000   651.000000   \n",
       "75%             0.000000         1.000000     1.000000   718.000000   \n",
       "max             1.000000         1.000000     1.000000   850.000000   \n",
       "\n",
       "               Age        Balance  EstimatedSalary  \n",
       "count  3000.000000    3000.000000      3000.000000  \n",
       "mean     38.939000   77183.125821     98387.824727  \n",
       "std      10.343643   62039.899809     58235.524001  \n",
       "min      21.000000       0.000000      1842.825300  \n",
       "25%      32.000000       0.000000     48162.197500  \n",
       "50%      37.000000   98011.935000     98320.900000  \n",
       "75%      44.000000  127901.155000    147172.395000  \n",
       "max      72.000000  185967.985400    198069.734500  "
      ]
     },
     "execution_count": 49,
     "metadata": {},
     "output_type": "execute_result"
    }
   ],
   "source": [
    "xtest.describe()"
   ]
  },
  {
   "cell_type": "raw",
   "metadata": {},
   "source": [
    "the mean median std are almost same in both train and test data"
   ]
  },
  {
   "cell_type": "code",
   "execution_count": null,
   "metadata": {},
   "outputs": [],
   "source": []
  },
  {
   "cell_type": "code",
   "execution_count": null,
   "metadata": {},
   "outputs": [],
   "source": []
  },
  {
   "cell_type": "markdown",
   "metadata": {
    "_uuid": "2fcd4a30b10e5bf2f390190e6f3ac1c86ebc43b0"
   },
   "source": [
    "### 6.\tFit a base model and explain the reason of selecting that model. Please write your key observations\n",
    "\n",
    "a.\tWhat is the overall Accuracy? Please comment on whether it is good or not. \n",
    "\n",
    "b.\tWhat is Precision, Recall and F1 Score and what will be the optimization objective keeping in mind the problem statement.\n",
    "\n",
    "c.\tWhich variables are significant?\n",
    "\n",
    "d.\tWhat is Cohen’s Kappa Value and what inference do you make from the model\n",
    "e.\tWhich other key model output parameters do you want to look at? \n"
   ]
  },
  {
   "cell_type": "code",
   "execution_count": 50,
   "metadata": {},
   "outputs": [
    {
     "name": "stdout",
     "output_type": "stream",
     "text": [
      "              precision    recall  f1-score   support\n",
      "\n",
      "           0       0.80      0.97      0.88      2386\n",
      "           1       0.42      0.07      0.12       614\n",
      "\n",
      "    accuracy                           0.79      3000\n",
      "   macro avg       0.61      0.52      0.50      3000\n",
      "weighted avg       0.73      0.79      0.73      3000\n",
      "\n"
     ]
    }
   ],
   "source": [
    "lm=LogisticRegression()\n",
    "lm.fit(xtrain,ytrain)\n",
    "ypred=lm.predict(xtest)\n",
    "\n",
    "from sklearn.metrics import classification_report\n",
    "print(classification_report(ytest,ypred))"
   ]
  },
  {
   "cell_type": "markdown",
   "metadata": {},
   "source": [
    "A"
   ]
  },
  {
   "cell_type": "markdown",
   "metadata": {},
   "source": [
    "overall accuracy is 79% however it is not very good accuracy score \n",
    "\n",
    "the accuracy is 79% because the model has learnt and predicted the class 0 well "
   ]
  },
  {
   "cell_type": "markdown",
   "metadata": {},
   "source": [
    "B"
   ]
  },
  {
   "cell_type": "markdown",
   "metadata": {},
   "source": [
    "the precision recall and f1 score of class 0 is 80,97 and 88 respectivly\n",
    "\n",
    "however if we see the class 1 scores precision-0.42,f1-0.12 and recall is 0.07 which is very bad .\n",
    "\n",
    "the scores of the class 0 are high because the model has learnt the class well as it has more data rather than class 1\n"
   ]
  },
  {
   "cell_type": "markdown",
   "metadata": {},
   "source": [
    "C"
   ]
  },
  {
   "cell_type": "code",
   "execution_count": 51,
   "metadata": {},
   "outputs": [
    {
     "data": {
      "text/html": [
       "<div>\n",
       "<style scoped>\n",
       "    .dataframe tbody tr th:only-of-type {\n",
       "        vertical-align: middle;\n",
       "    }\n",
       "\n",
       "    .dataframe tbody tr th {\n",
       "        vertical-align: top;\n",
       "    }\n",
       "\n",
       "    .dataframe thead th {\n",
       "        text-align: right;\n",
       "    }\n",
       "</style>\n",
       "<table border=\"1\" class=\"dataframe\">\n",
       "  <thead>\n",
       "    <tr style=\"text-align: right;\">\n",
       "      <th></th>\n",
       "      <th>0</th>\n",
       "    </tr>\n",
       "  </thead>\n",
       "  <tbody>\n",
       "    <tr>\n",
       "      <th>Age</th>\n",
       "      <td>1.047117</td>\n",
       "    </tr>\n",
       "    <tr>\n",
       "      <th>Geography_Germany</th>\n",
       "      <td>1.001083</td>\n",
       "    </tr>\n",
       "    <tr>\n",
       "      <th>Balance</th>\n",
       "      <td>1.000004</td>\n",
       "    </tr>\n",
       "    <tr>\n",
       "      <th>EstimatedSalary</th>\n",
       "      <td>0.999999</td>\n",
       "    </tr>\n",
       "    <tr>\n",
       "      <th>HasCrCard</th>\n",
       "      <td>0.999782</td>\n",
       "    </tr>\n",
       "    <tr>\n",
       "      <th>NumOfProducts</th>\n",
       "      <td>0.999642</td>\n",
       "    </tr>\n",
       "    <tr>\n",
       "      <th>Geography_Spain</th>\n",
       "      <td>0.999623</td>\n",
       "    </tr>\n",
       "    <tr>\n",
       "      <th>Gender_Male</th>\n",
       "      <td>0.998864</td>\n",
       "    </tr>\n",
       "    <tr>\n",
       "      <th>IsActiveMember</th>\n",
       "      <td>0.998516</td>\n",
       "    </tr>\n",
       "    <tr>\n",
       "      <th>Tenure</th>\n",
       "      <td>0.998245</td>\n",
       "    </tr>\n",
       "    <tr>\n",
       "      <th>CreditScore</th>\n",
       "      <td>0.994807</td>\n",
       "    </tr>\n",
       "  </tbody>\n",
       "</table>\n",
       "</div>"
      ],
      "text/plain": [
       "                          0\n",
       "Age                1.047117\n",
       "Geography_Germany  1.001083\n",
       "Balance            1.000004\n",
       "EstimatedSalary    0.999999\n",
       "HasCrCard          0.999782\n",
       "NumOfProducts      0.999642\n",
       "Geography_Spain    0.999623\n",
       "Gender_Male        0.998864\n",
       "IsActiveMember     0.998516\n",
       "Tenure             0.998245\n",
       "CreditScore        0.994807"
      ]
     },
     "execution_count": 51,
     "metadata": {},
     "output_type": "execute_result"
    }
   ],
   "source": [
    "odds=np.exp(lm.coef_)\n",
    "pd.DataFrame(odds,columns=inp.columns).T.sort_values(by=0,ascending=False) \n",
    "#taken exponential,because log likelyhood will be lesser explanatory"
   ]
  },
  {
   "cell_type": "markdown",
   "metadata": {},
   "source": [
    "the odds of age, loc-germany and balance has more effect\n",
    "\n",
    "the odds of people who exit is increased by 1.04 times if there is one unit chnge in the age\n",
    "\n",
    "the odds of people who exit is increased by 1.00 times if there is one unit chnge in the geo loc germany\n",
    "\n",
    "the odds of people who exit is increased by 1 times if there is one unit chnge in the balance\n",
    "other variables have almost 0.99 odds effect"
   ]
  },
  {
   "cell_type": "markdown",
   "metadata": {},
   "source": [
    "D"
   ]
  },
  {
   "cell_type": "code",
   "execution_count": 52,
   "metadata": {},
   "outputs": [],
   "source": [
    "from sklearn.metrics import cohen_kappa_score"
   ]
  },
  {
   "cell_type": "code",
   "execution_count": 53,
   "metadata": {},
   "outputs": [
    {
     "data": {
      "text/plain": [
       "0.06725993540898423"
      ]
     },
     "execution_count": 53,
     "metadata": {},
     "output_type": "execute_result"
    }
   ],
   "source": [
    "cohen_kappa_score(ytest,ypred)"
   ]
  },
  {
   "cell_type": "markdown",
   "metadata": {},
   "source": [
    "the cohen's kappa score is very less because of the major imbalance in the data\n",
    "\n",
    "cohen's kappa score is aggrement between 2 classes , here the score is 0.06 which is very less"
   ]
  },
  {
   "cell_type": "raw",
   "metadata": {},
   "source": [
    "due to the imbalance of the data \n",
    "smote and nearmiss is used to rectify and improve the model."
   ]
  },
  {
   "cell_type": "code",
   "execution_count": 54,
   "metadata": {},
   "outputs": [],
   "source": [
    "from imblearn.over_sampling import SMOTE\n",
    "from imblearn.under_sampling import NearMiss\n",
    "from imblearn.pipeline import make_pipeline"
   ]
  },
  {
   "cell_type": "code",
   "execution_count": 55,
   "metadata": {},
   "outputs": [
    {
     "data": {
      "text/plain": [
       "0    7963\n",
       "1    2037\n",
       "Name: Exited, dtype: int64"
      ]
     },
     "execution_count": 55,
     "metadata": {},
     "output_type": "execute_result"
    }
   ],
   "source": [
    "final.Exited.value_counts()"
   ]
  },
  {
   "cell_type": "code",
   "execution_count": 56,
   "metadata": {},
   "outputs": [],
   "source": [
    "class_count_0=5000\n",
    "class_count_1=4000\n",
    "pipe=make_pipeline(SMOTE(sampling_strategy={1:class_count_1}),NearMiss(sampling_strategy={0:class_count_0}))\n",
    "input,output=pipe.fit_resample(inp,out)"
   ]
  },
  {
   "cell_type": "code",
   "execution_count": 57,
   "metadata": {},
   "outputs": [],
   "source": [
    "xtrain,xtest,ytrain,ytest=train_test_split(input,output,test_size=0.3,random_state=48)"
   ]
  },
  {
   "cell_type": "code",
   "execution_count": 58,
   "metadata": {},
   "outputs": [
    {
     "name": "stdout",
     "output_type": "stream",
     "text": [
      "              precision    recall  f1-score   support\n",
      "\n",
      "           0       0.72      0.77      0.74      1459\n",
      "           1       0.70      0.65      0.68      1241\n",
      "\n",
      "    accuracy                           0.71      2700\n",
      "   macro avg       0.71      0.71      0.71      2700\n",
      "weighted avg       0.71      0.71      0.71      2700\n",
      "\n"
     ]
    }
   ],
   "source": [
    "lm=LogisticRegression()\n",
    "lm.fit(xtrain,ytrain)\n",
    "ypred=lm.predict(xtest)\n",
    "\n",
    "print(classification_report(ytest,ypred))"
   ]
  },
  {
   "cell_type": "markdown",
   "metadata": {},
   "source": [
    "if we see scores now \n",
    "accuracy has been reduced from 79% to 70 \n",
    "that is because now both the classes are balanced and the model learning can be neutral\n",
    "\n",
    "the precesion -69% , recall-66%  and F1 score is 67% of class 1 which has increased \n",
    "if we see the imbalanced data model scores the recall was the least 0.07 and now it has incraesed to 66% \n",
    "\n",
    "but as we did under sampling for the class 0 , the scores of class 0 has been reduced slightly\n",
    "it was more than 80% for the imbalanced data model and now the scores are precision-72% , recall- 74% and f1 scores are 73%"
   ]
  },
  {
   "cell_type": "code",
   "execution_count": null,
   "metadata": {},
   "outputs": [],
   "source": []
  },
  {
   "cell_type": "markdown",
   "metadata": {
    "_uuid": "1d74e48a7d887524399923f72b0d138c53e6f791"
   },
   "source": [
    "### 7.\tHow do you improve overall efficiency of the model? Write clearly the changes that you will make before re-fitting the model. Fit the final model. \n"
   ]
  },
  {
   "cell_type": "raw",
   "metadata": {},
   "source": [
    "The under sampling and over sampling method is done as above \n",
    "as the classes was imbalanced ."
   ]
  },
  {
   "cell_type": "markdown",
   "metadata": {},
   "source": [
    "now , with that resampling input and output the performance in non linear models can be checked.\n",
    "\n",
    "instead of trying the models seperatly we can use kflod to try the models performance in each at one go.\n",
    "\n",
    "then  best model method can be choosed\n",
    "\n",
    "and the we can do hyper parameter tuning to that best model for the best parameters.\n",
    "\n",
    "finally fit the best model with the \n",
    "best params and then check the generiosity of the model by doing cross validation"
   ]
  },
  {
   "cell_type": "code",
   "execution_count": 59,
   "metadata": {},
   "outputs": [],
   "source": [
    "from sklearn.tree import DecisionTreeClassifier\n",
    "from sklearn.neighbors import KNeighborsClassifier\n",
    "from sklearn.ensemble import RandomForestClassifier\n",
    "from sklearn.naive_bayes import GaussianNB\n",
    "from sklearn.model_selection import cross_val_score,KFold\n",
    "from xgboost import XGBClassifier"
   ]
  },
  {
   "cell_type": "code",
   "execution_count": 60,
   "metadata": {},
   "outputs": [],
   "source": [
    "clf1=LogisticRegression(max_iter=3000)\n",
    "clf2=DecisionTreeClassifier(random_state=0)\n",
    "clf3=RandomForestClassifier(random_state=0)\n",
    "clf4=KNeighborsClassifier(n_neighbors=5)\n",
    "clf5=GaussianNB()\n",
    "clf6=XGBClassifier(random_state=0)\n"
   ]
  },
  {
   "cell_type": "code",
   "execution_count": 61,
   "metadata": {},
   "outputs": [],
   "source": [
    "kf=KFold(n_splits=5,shuffle=True,random_state=0)"
   ]
  },
  {
   "cell_type": "code",
   "execution_count": 62,
   "metadata": {},
   "outputs": [
    {
     "name": "stdout",
     "output_type": "stream",
     "text": [
      "LR 0.6966666666666667 0.021575357669009032\n",
      "DT 0.7931111111111111 0.02252703977836007\n",
      "RF 0.8501111111111112 0.015571634397783475\n",
      "KNN 0.6258888888888889 0.008598530827844711\n",
      "GNB 0.7226666666666667 0.014377207536975344\n",
      "XGB 0.7226666666666667 0.014377207536975344\n"
     ]
    }
   ],
   "source": [
    "for i,j in zip([clf1,clf2,clf3,clf4,clf5,clf5],['LR','DT','RF','KNN','GNB','XGB']):\n",
    "    score=cross_val_score(i,input,output,cv=kf,scoring='accuracy')\n",
    "    print(j,np.mean(score),np.std(score)/np.mean(score))"
   ]
  },
  {
   "cell_type": "code",
   "execution_count": 63,
   "metadata": {},
   "outputs": [
    {
     "name": "stdout",
     "output_type": "stream",
     "text": [
      "LR 0.7540263859838238 0.03532397598625183\n",
      "DT 0.7908653772607771 0.022751720815577338\n",
      "RF 0.9262582797751522 0.01050759628479454\n",
      "KNN 0.680224817442092 0.006938460691771227\n",
      "GNB 0.8098638138156049 0.010795179443313117\n",
      "XGB 0.8098638138156049 0.010795179443313117\n"
     ]
    }
   ],
   "source": [
    "for i,j in zip([clf1,clf2,clf3,clf4,clf5,clf5],['LR','DT','RF','KNN','GNB','XGB']):\n",
    "    score=cross_val_score(i,input,output,cv=kf,scoring='roc_auc')\n",
    "    print(j,np.mean(score),np.std(score)/np.mean(score))"
   ]
  },
  {
   "cell_type": "code",
   "execution_count": 64,
   "metadata": {},
   "outputs": [
    {
     "name": "stdout",
     "output_type": "stream",
     "text": [
      "LR 0.6596385713147869 0.0142164647930069\n",
      "DT 0.7680959801386017 0.024495032800446126\n",
      "RF 0.8293785658152781 0.016664914718525613\n",
      "KNN 0.5829288962934298 0.014777363958088634\n",
      "GNB 0.6803690879465731 0.02124802604380414\n",
      "XGB 0.6803690879465731 0.02124802604380414\n"
     ]
    }
   ],
   "source": [
    "for i,j in zip([clf1,clf2,clf3,clf4,clf5,clf5],['LR','DT','RF','KNN','GNB','XGB']):\n",
    "    score=cross_val_score(i,input,output,cv=kf,scoring='f1')\n",
    "    print(j,np.mean(score),np.std(score)/np.mean(score))"
   ]
  },
  {
   "cell_type": "markdown",
   "metadata": {},
   "source": [
    "if we see the scores of the models \n",
    "it is doing well in random forest comparitive to the other model performances\n",
    "\n",
    "the f1 score ,ruc auc and accuracy is high in random forest \n",
    "than the other model performances\n",
    "\n",
    "now lets check the perfomance of the imbalanced data input output with the kfold \n"
   ]
  },
  {
   "cell_type": "code",
   "execution_count": 65,
   "metadata": {},
   "outputs": [
    {
     "name": "stdout",
     "output_type": "stream",
     "text": [
      "LR 0.6712780897203035 0.024811740531305984\n",
      "DT 0.6909101481614297 0.024213476842317203\n",
      "RF 0.8573617574009894 0.010089312996303546\n",
      "KNN 0.5237087377884533 0.012916879495775664\n",
      "GNB 0.7445288707448038 0.015842287862708453\n",
      "XGB 0.7445288707448038 0.015842287862708453\n"
     ]
    }
   ],
   "source": [
    "for i,j in zip([clf1,clf2,clf3,clf4,clf5,clf5],['LR','DT','RF','KNN','GNB','XGB']):\n",
    "    score=cross_val_score(i,inp,out,cv=kf,scoring='roc_auc')\n",
    "    print(j,np.mean(score),np.std(score)/np.mean(score))"
   ]
  },
  {
   "cell_type": "markdown",
   "metadata": {},
   "source": [
    "as we can see from the above even in the imbalanced data \n",
    "random forest is performing well.\n",
    "hence we can take random forest model and improve the model further on hyper parameter tuning "
   ]
  },
  {
   "cell_type": "code",
   "execution_count": 66,
   "metadata": {},
   "outputs": [
    {
     "name": "stdout",
     "output_type": "stream",
     "text": [
      "n_estimators:  5\n",
      "Bias error-  0.20465655692378748\n",
      "Variance error-  0.014096482074928097\n",
      "n_estimators:  10\n",
      "Bias error-  0.19422434656817544\n",
      "Variance error-  0.019924167085450313\n",
      "n_estimators:  100\n",
      "Bias error-  0.16840897572214752\n",
      "Variance error-  0.014235794006074633\n",
      "n_estimators:  250\n",
      "Bias error-  0.16948985756348178\n",
      "Variance error-  0.016531196175149053\n",
      "n_estimators:  450\n",
      "Bias error-  0.17001089334628572\n",
      "Variance error-  0.01376003364881057\n",
      "n_estimators:  500\n",
      "Bias error-  0.1694044832710695\n",
      "Variance error-  0.012545653079370596\n"
     ]
    }
   ],
   "source": [
    "bias_error=[]\n",
    "var_error=[]\n",
    "for i in [5,10,100,250,450,500]:\n",
    "    dt=RandomForestClassifier(n_estimators=i,random_state=48)\n",
    "    score=cross_val_score(dt,input,output,cv=kf,scoring='f1')\n",
    "    print('n_estimators: ',i)\n",
    "    print('Bias error- ',1-np.mean(score))\n",
    "    print('Variance error- ',np.std(score)/np.mean(score))\n",
    "    bias_error.append(1-np.mean(score))\n",
    "    var_error.append(np.std(score)/np.mean(score))"
   ]
  },
  {
   "cell_type": "raw",
   "metadata": {},
   "source": [
    "as we can see from the above nestimators are given randomly \n",
    "from that for n estimator as 500 the bias and variance error is less \n",
    "so when the n_estimators are  around 500 there is less bias and variance error."
   ]
  },
  {
   "cell_type": "raw",
   "metadata": {},
   "source": [
    "now that we know that the n estimators around 500 has less var and bias error \n",
    "we can select the best_params by gridsearch cv for random forest model."
   ]
  },
  {
   "cell_type": "code",
   "execution_count": 67,
   "metadata": {},
   "outputs": [],
   "source": [
    "from sklearn.model_selection import GridSearchCV\n",
    "params={'n_estimators':[90,100,150,500],\n",
    "       'max_depth':[10,15,20,25,30,40]}"
   ]
  },
  {
   "cell_type": "code",
   "execution_count": 68,
   "metadata": {},
   "outputs": [],
   "source": [
    "rf=RandomForestClassifier()\n",
    "hyper_model=GridSearchCV(rf,param_grid=params,scoring='f1')"
   ]
  },
  {
   "cell_type": "code",
   "execution_count": 70,
   "metadata": {},
   "outputs": [],
   "source": [
    "mod=hyper_model.fit(xtrain,ytrain)"
   ]
  },
  {
   "cell_type": "code",
   "execution_count": 71,
   "metadata": {},
   "outputs": [
    {
     "data": {
      "text/plain": [
       "{'max_depth': 25, 'n_estimators': 150}"
      ]
     },
     "execution_count": 71,
     "metadata": {},
     "output_type": "execute_result"
    }
   ],
   "source": [
    "mod.best_params_"
   ]
  },
  {
   "cell_type": "code",
   "execution_count": 72,
   "metadata": {},
   "outputs": [],
   "source": [
    "model=RandomForestClassifier(**mod.best_params_)"
   ]
  },
  {
   "cell_type": "code",
   "execution_count": 73,
   "metadata": {},
   "outputs": [
    {
     "data": {
      "text/plain": [
       "RandomForestClassifier(max_depth=25, n_estimators=150)"
      ]
     },
     "execution_count": 73,
     "metadata": {},
     "output_type": "execute_result"
    }
   ],
   "source": [
    "model.fit(xtrain,ytrain)"
   ]
  },
  {
   "cell_type": "code",
   "execution_count": 74,
   "metadata": {},
   "outputs": [
    {
     "name": "stdout",
     "output_type": "stream",
     "text": [
      "              precision    recall  f1-score   support\n",
      "\n",
      "           0       0.84      0.88      0.86      1459\n",
      "           1       0.85      0.80      0.83      1241\n",
      "\n",
      "    accuracy                           0.85      2700\n",
      "   macro avg       0.85      0.84      0.84      2700\n",
      "weighted avg       0.85      0.85      0.85      2700\n",
      "\n"
     ]
    }
   ],
   "source": [
    "ypred1=model.predict(xtest)\n",
    "ypred_train=model.predict(xtrain)\n",
    "print(classification_report(ytest,ypred1))"
   ]
  },
  {
   "cell_type": "markdown",
   "metadata": {},
   "source": [
    "### 8.\tSummarize as follows\n",
    "\n",
    "1.\tSummarize the overall fit of the model and list down the measures to prove that it is a good model\n",
    "\n",
    "2.\tWrite down a business interpretation/explanation of the model – which variables are affecting the target the most and explain the relationship. Feel free to use charts or graphs to explain.\n",
    "\n",
    "3.\tWhat changes from the base model had the most effect on model performance?\n",
    "\n",
    "4.\tWhat are the key risks to your results and interpretation?\n"
   ]
  },
  {
   "cell_type": "raw",
   "metadata": {},
   "source": [
    "* if we look at the classification report the scores has been improved a little from the base model \n",
    "\n",
    "* the precision scores of both the classes are almost around 84 and 85 which is a good good compared to the base model scoeres \n",
    "\n",
    "* the recall scores are also good class 1(80%) has comparitivel less scores than class 0(88%)\n",
    "\n",
    "* the f1 scores are also improved and the overall accuracy of the model is 85%\n",
    "\n",
    "the macro avg and weighted average are the weighted average are the of the ount (support) calculation "
   ]
  },
  {
   "cell_type": "code",
   "execution_count": 76,
   "metadata": {},
   "outputs": [],
   "source": [
    "from sklearn.metrics import confusion_matrix"
   ]
  },
  {
   "cell_type": "code",
   "execution_count": 77,
   "metadata": {},
   "outputs": [
    {
     "data": {
      "text/plain": [
       "<matplotlib.axes._subplots.AxesSubplot at 0x7f8d3864e8d0>"
      ]
     },
     "execution_count": 77,
     "metadata": {},
     "output_type": "execute_result"
    },
    {
     "data": {
      "image/png": "[encoded data removed]",
      "text/plain": [
       "<Figure size 432x288 with 2 Axes>"
      ]
     },
     "metadata": {
      "needs_background": "light"
     },
     "output_type": "display_data"
    }
   ],
   "source": [
    "cm=confusion_matrix(ytest,ypred)\n",
    "sns.heatmap(cm,annot=True)"
   ]
  },
  {
   "cell_type": "raw",
   "metadata": {},
   "source": [
    "we can see the confusion matrix above  the tp ,fp tn and fn"
   ]
  },
  {
   "cell_type": "raw",
   "metadata": {},
   "source": [
    "to check the generiosity of the model e can see the cross val scores"
   ]
  },
  {
   "cell_type": "code",
   "execution_count": 89,
   "metadata": {},
   "outputs": [
    {
     "name": "stdout",
     "output_type": "stream",
     "text": [
      "0.8305669675772623 0.009503502546873786\n"
     ]
    }
   ],
   "source": [
    "score= cross_val_score(model, input,output,cv=kf,scoring='f1')\n",
    "print(np.mean(score),np.std(score)/np.mean(score))"
   ]
  },
  {
   "cell_type": "raw",
   "metadata": {},
   "source": [
    "the cross validation score is also good the model is performimg good in all the batches \n",
    "and also the error is lesss 0.009 ."
   ]
  },
  {
   "cell_type": "raw",
   "metadata": {},
   "source": [
    "the major change affected the model is balanced class \n",
    "using smote and nearmiss \n",
    "and also we did hyper parameter tuning which also had a good impact \n",
    "the best params were max depth 25 and nestimators 120 \n",
    "hence the default gini index and "
   ]
  }
 ],
 "metadata": {
  "kernelspec": {
   "display_name": "Python 3",
   "language": "python",
   "name": "python3"
  },
  "language_info": {
   "codemirror_mode": {
    "name": "ipython",
    "version": 3
   },
   "file_extension": ".py",
   "mimetype": "text/x-python",
   "name": "python",
   "nbconvert_exporter": "python",
   "pygments_lexer": "ipython3",
   "version": "3.8.3"
  }
 },
 "nbformat": 4,
 "nbformat_minor": 4
}
